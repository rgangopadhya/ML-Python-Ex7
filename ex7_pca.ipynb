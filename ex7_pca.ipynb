{
 "metadata": {
  "name": "ex7_pca"
 }, 
 "nbformat": 2, 
 "worksheets": [
  {
   "cells": [
    {
     "cell_type": "code", 
     "collapsed": true, 
     "input": [
      "from kmeans import *", 
      "from pca import *", 
      "#visualize a small dataset to get some intuition ", 
      "import numpy as np", 
      "import sys", 
      "import matplotlib.pyplot as pyplot\t"
     ], 
     "language": "python", 
     "outputs": [], 
     "prompt_number": 1
    }, 
    {
     "cell_type": "code", 
     "collapsed": true, 
     "input": [
      "sys.path.append(r'/home/raja/Documents/MachineLearning/ex7/ex7')"
     ], 
     "language": "python", 
     "outputs": [], 
     "prompt_number": 2
    }, 
    {
     "cell_type": "code", 
     "collapsed": false, 
     "input": [
      "%pylab inline"
     ], 
     "language": "python", 
     "outputs": [
      {
       "output_type": "stream", 
       "stream": "stdout", 
       "text": [
        "", 
        "Welcome to pylab, a matplotlib-based Python environment [backend: module://IPython.zmq.pylab.backend_inline].", 
        "For more information, type 'help(pylab)'."
       ]
      }
     ], 
     "prompt_number": 3
    }, 
    {
     "cell_type": "code", 
     "collapsed": false, 
     "input": [
      "pdata=import_mlab('ex7data1.mat')", 
      "pyplot.plot(pdata['X'][:,0], pdata['X'][:,1], 'bo')"
     ], 
     "language": "python", 
     "outputs": [
      {
       "output_type": "pyout", 
       "prompt_number": 4, 
       "text": [
        "[<matplotlib.lines.Line2D at 0xa53fccc>]"
       ]
      }, 
      {
       "output_type": "display_data", 
       "png": "[encoded data removed]"
      }
     ], 
     "prompt_number": 4
    }, 
    {
     "cell_type": "code", 
     "collapsed": true, 
     "input": [
      "sys.path.append(r'/home/raja/Documents/MachineLearning/ex5/Python')", 
      "from lincost import featureNormalize"
     ], 
     "language": "python", 
     "outputs": [], 
     "prompt_number": 5
    }, 
    {
     "cell_type": "code", 
     "collapsed": true, 
     "input": [
      "X_norm, mu, sigma = featureNormalize(pdata['X'])"
     ], 
     "language": "python", 
     "outputs": [], 
     "prompt_number": 6
    }, 
    {
     "cell_type": "code", 
     "collapsed": true, 
     "input": [
      "U, s, V = pca(X_norm)"
     ], 
     "language": "python", 
     "outputs": [], 
     "prompt_number": 7
    }, 
    {
     "cell_type": "code", 
     "collapsed": true, 
     "input": [
      "eig = np.dot(U, np.diag(s))"
     ], 
     "language": "python", 
     "outputs": [], 
     "prompt_number": 8
    }, 
    {
     "cell_type": "code", 
     "collapsed": false, 
     "input": [
      "eig"
     ], 
     "language": "python", 
     "outputs": [
      {
       "output_type": "pyout", 
       "prompt_number": 9, 
       "text": [
        "array([[-1.2272053 , -0.18700826],", 
        "       [-1.2272053 ,  0.18700826]])"
       ]
      }
     ], 
     "prompt_number": 9
    }, 
    {
     "cell_type": "code", 
     "collapsed": false, 
     "input": [
      "U"
     ], 
     "language": "python", 
     "outputs": [
      {
       "output_type": "pyout", 
       "prompt_number": 10, 
       "text": [
        "array([[-0.70710678, -0.70710678],", 
        "       [-0.70710678,  0.70710678]])"
       ]
      }
     ], 
     "prompt_number": 10
    }, 
    {
     "cell_type": "code", 
     "collapsed": false, 
     "input": [
      "s"
     ], 
     "language": "python", 
     "outputs": [
      {
       "output_type": "pyout", 
       "prompt_number": 11, 
       "text": [
        "array([ 1.73553038,  0.26446962])"
       ]
      }
     ], 
     "prompt_number": 11
    }, 
    {
     "cell_type": "code", 
     "collapsed": false, 
     "input": [
      "pyplot.plot(pdata['X'][:,0], pdata['X'][:,1], 'bo')", 
      "pyplot.plot(np.hstack((mu[0], mu[0] + 1.5*eig[0,0])), np.hstack((mu[1], mu[1] + 1.5*eig[1,0])))", 
      "pyplot.plot(np.hstack((mu[0], mu[0] + 1.5*eig[0,1])), np.hstack((mu[1], mu[1] + 1.5*eig[1,1])))"
     ], 
     "language": "python", 
     "outputs": [
      {
       "output_type": "pyout", 
       "prompt_number": 12, 
       "text": [
        "[<matplotlib.lines.Line2D at 0xa6e064c>]"
       ]
      }, 
      {
       "output_type": "display_data", 
       "png": "[encoded data removed]"
      }
     ], 
     "prompt_number": 12
    }, 
    {
     "cell_type": "code", 
     "collapsed": false, 
     "input": [
      "#Dimension reduction on example dataset", 
      "pyplot.plot(X_norm[:, 0], X_norm[:, 1], 'bo')"
     ], 
     "language": "python", 
     "outputs": [
      {
       "output_type": "pyout", 
       "prompt_number": 13, 
       "text": [
        "[<matplotlib.lines.Line2D at 0xa753b6c>]"
       ]
      }, 
      {
       "output_type": "display_data", 
       "png": "[encoded data removed]"
      }
     ], 
     "prompt_number": 13
    }, 
    {
     "cell_type": "code", 
     "collapsed": false, 
     "input": [
      "K = 1", 
      "Z = projectData(X_norm, U, K)"
     ], 
     "language": "python", 
     "outputs": [], 
     "prompt_number": 14
    }, 
    {
     "cell_type": "code", 
     "collapsed": false, 
     "input": [
      "#Projection of the first example:", 
      "Z[0]"
     ], 
     "language": "python", 
     "outputs": [
      {
       "output_type": "pyout", 
       "prompt_number": 15, 
       "text": [
        "array([ 1.49631261])"
       ]
      }
     ], 
     "prompt_number": 15
    }, 
    {
     "cell_type": "code", 
     "collapsed": false, 
     "input": [
      "X_rec = recoverData(Z, U, K)"
     ], 
     "language": "python", 
     "outputs": [], 
     "prompt_number": 16
    }, 
    {
     "cell_type": "code", 
     "collapsed": false, 
     "input": [
      "#approximation of first example:", 
      "X_rec[0,:]"
     ], 
     "language": "python", 
     "outputs": [
      {
       "output_type": "pyout", 
       "prompt_number": 17, 
       "text": [
        "array([-1.05805279, -1.05805279])"
       ]
      }
     ], 
     "prompt_number": 17
    }, 
    {
     "cell_type": "code", 
     "collapsed": false, 
     "input": [
      "X_norm[0,:]"
     ], 
     "language": "python", 
     "outputs": [
      {
       "output_type": "pyout", 
       "prompt_number": 18, 
       "text": [
        "array([-0.52331306, -1.59279252])"
       ]
      }
     ], 
     "prompt_number": 18
    }, 
    {
     "cell_type": "code", 
     "collapsed": false, 
     "input": [
      "pyplot.plot(X_norm[:, 0], X_norm[:, 1], 'bo')", 
      "pyplot.plot(X_rec[:, 0], X_rec[:, 1], 'ro')", 
      "for xn, xr in zip(X_norm, X_rec):", 
      "    pyplot.plot(np.hstack((xn[0], xr[0])), np.hstack((xn[1], xr[1])), '--k', linewidth=1)", 
      "pyplot.axis([-4, 3, -4, 3])    "
     ], 
     "language": "python", 
     "outputs": [
      {
       "output_type": "pyout", 
       "prompt_number": 22, 
       "text": [
        "[-4, 3, -4, 3]"
       ]
      }, 
      {
       "output_type": "display_data", 
       "png": "[encoded data removed]"
      }
     ], 
     "prompt_number": 22
    }, 
    {
     "cell_type": "code", 
     "collapsed": true, 
     "input": [], 
     "language": "python", 
     "outputs": []
    }
   ]
  }
 ]
}